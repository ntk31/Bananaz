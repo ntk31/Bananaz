{
  "nbformat": 4,
  "nbformat_minor": 0,
  "metadata": {
    "colab": {
      "provenance": [],
      "authorship_tag": "ABX9TyNUUZ5cZLd6W2YN/z7UgtKK",
      "include_colab_link": true
    },
    "kernelspec": {
      "name": "python3",
      "display_name": "Python 3"
    },
    "language_info": {
      "name": "python"
    }
  },
  "cells": [
    {
      "cell_type": "markdown",
      "metadata": {
        "id": "view-in-github",
        "colab_type": "text"
      },
      "source": [
        "<a href=\"https://colab.research.google.com/github/ntk31/Bananaz/blob/main/%D0%A6%D1%85%D0%B0%D0%B9_%D0%91%D0%98%D0%9A2_%D0%9B%D0%A04.ipynb\" target=\"_parent\"><img src=\"https://colab.research.google.com/assets/colab-badge.svg\" alt=\"Open In Colab\"/></a>"
      ]
    },
    {
      "cell_type": "code",
      "source": [
        "code_error = input()\n",
        "\n",
        "match code_error:\n",
        "  case \"400\":\n",
        "    print(\"Bad request\")\n",
        "  case \"401\":\n",
        "    print(\"Unauthorized\")\n",
        "  case \"402\":\n",
        "    print(\"Payment required\")\n",
        "  case \"403\":\n",
        "    print(\"Forbidden\")\n",
        "  case \"404\":\n",
        "    print(\"Not found\")\n",
        "  case \"405\":\n",
        "    print(\"Method not allowed\")"
      ],
      "metadata": {
        "colab": {
          "base_uri": "https://localhost:8080/"
        },
        "id": "OhlWfjgAL2Z_",
        "outputId": "f02dc3d0-4e64-4bd9-8c71-b50cf676380f"
      },
      "execution_count": 7,
      "outputs": [
        {
          "output_type": "stream",
          "name": "stdout",
          "text": [
            "403\n",
            "Forbidden\n"
          ]
        }
      ]
    },
    {
      "cell_type": "code",
      "execution_count": 25,
      "metadata": {
        "colab": {
          "base_uri": "https://localhost:8080/"
        },
        "id": "dNFUDeynFInK",
        "outputId": "d9c97962-3ab6-445a-82d1-77377c7af36d"
      },
      "outputs": [
        {
          "output_type": "stream",
          "name": "stdout",
          "text": [
            "1-я четветь\n"
          ]
        }
      ],
      "source": [
        "x = 3\n",
        "y = 4\n",
        "\n",
        "if x > 0 and y > 0:\n",
        "  print(\"1-я четветь\")\n",
        "elif x > 0 and y < 0:\n",
        "  print(\"2-я четверть\")\n",
        "elif x < 0 and y < 0:\n",
        "  print(\"3-я четверть\")\n",
        "elif x < 0 and y > 0:\n",
        " print(\"4-я четверть\")\n",
        "else:\n",
        "    print(\"not found\")"
      ]
    },
    {
      "cell_type": "code",
      "source": [
        "year = input()\n",
        "\n",
        "if year / 4\n"
      ],
      "metadata": {
        "id": "zk6ulwQUW7nZ"
      },
      "execution_count": null,
      "outputs": []
    }
  ]
}