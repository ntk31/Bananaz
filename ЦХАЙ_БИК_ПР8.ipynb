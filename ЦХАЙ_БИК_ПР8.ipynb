{
  "nbformat": 4,
  "nbformat_minor": 0,
  "metadata": {
    "colab": {
      "provenance": [],
      "authorship_tag": "ABX9TyMBrptjxEIxiatKVNJVBqP6",
      "include_colab_link": true
    },
    "kernelspec": {
      "name": "python3",
      "display_name": "Python 3"
    },
    "language_info": {
      "name": "python"
    }
  },
  "cells": [
    {
      "cell_type": "markdown",
      "metadata": {
        "id": "view-in-github",
        "colab_type": "text"
      },
      "source": [
        "<a href=\"https://colab.research.google.com/github/ntk31/Bananaz/blob/main/%D0%A6%D0%A5%D0%90%D0%99_%D0%91%D0%98%D0%9A_%D0%9F%D0%A08.ipynb\" target=\"_parent\"><img src=\"https://colab.research.google.com/assets/colab-badge.svg\" alt=\"Open In Colab\"/></a>"
      ]
    },
    {
      "cell_type": "code",
      "execution_count": 14,
      "metadata": {
        "colab": {
          "base_uri": "https://localhost:8080/"
        },
        "id": "u0sojuf6b1Ee",
        "outputId": "8e0db0b7-4d29-4fe9-c7c7-be46b314ae1b"
      },
      "outputs": [
        {
          "output_type": "stream",
          "name": "stdout",
          "text": [
            "[[1, 2, 3], [4, 5, 6], [7, 8, 9]]\n"
          ]
        }
      ],
      "source": [
        "# С клавиатуры вводится число n - количество строк и столбцов матрицы. Реализуйте матрицу размером n на n элементов из подряд идущих чисел. Например, для числа 2 исходной матрицей будет\n",
        "# [[1, 2],\n",
        "# [3, 4]]\n",
        "# После этого выведите полученную матрицу и её определитель.\n",
        "matrix = [[row * 3 + col + 1 for col in range(3)] for row in range(3)]\n",
        "print(matrix)"
      ]
    }
  ]
}