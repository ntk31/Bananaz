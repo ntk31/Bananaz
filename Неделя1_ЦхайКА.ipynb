{
  "nbformat": 4,
  "nbformat_minor": 0,
  "metadata": {
    "colab": {
      "provenance": [],
      "authorship_tag": "ABX9TyO4v5vrDeLBMqndYA2oidHC",
      "include_colab_link": true
    },
    "kernelspec": {
      "name": "python3",
      "display_name": "Python 3"
    },
    "language_info": {
      "name": "python"
    }
  },
  "cells": [
    {
      "cell_type": "markdown",
      "metadata": {
        "id": "view-in-github",
        "colab_type": "text"
      },
      "source": [
        "<a href=\"https://colab.research.google.com/github/ntk31/Bananaz/blob/main/%D0%9D%D0%B5%D0%B4%D0%B5%D0%BB%D1%8F1_%D0%A6%D1%85%D0%B0%D0%B9%D0%9A%D0%90.ipynb\" target=\"_parent\"><img src=\"https://colab.research.google.com/assets/colab-badge.svg\" alt=\"Open In Colab\"/></a>"
      ]
    },
    {
      "cell_type": "markdown",
      "source": [
        "Задание №1"
      ],
      "metadata": {
        "id": "P9u1fKoga5ci"
      }
    },
    {
      "cell_type": "code",
      "execution_count": null,
      "metadata": {
        "colab": {
          "base_uri": "https://localhost:8080/"
        },
        "id": "Wt1uevRgahzP",
        "outputId": "29815721-eee9-40e5-e7f2-9747572cdd5b"
      },
      "outputs": [
        {
          "output_type": "stream",
          "name": "stdout",
          "text": [
            "2\n",
            "3\n",
            "3.605551275463989\n"
          ]
        }
      ],
      "source": [
        "a=int(input())\n",
        "b=int(input())\n",
        "c=(a**2+b**2)**0.5\n",
        "print(c)"
      ]
    },
    {
      "cell_type": "markdown",
      "source": [
        "Задание №2"
      ],
      "metadata": {
        "id": "xXM_iAW8f7Gb"
      }
    },
    {
      "cell_type": "code",
      "source": [
        "a = int(input())\n",
        "print('The next number for the number ' + str(a) + ' is ' + str(a + 1) + '.')\n",
        "print('The previous number for the number ' + str(a) + ' is ' + str(a - 1) + '.')"
      ],
      "metadata": {
        "colab": {
          "base_uri": "https://localhost:8080/"
        },
        "id": "uMRFu448f6aG",
        "outputId": "5a61a8ff-9887-4b41-d813-7e4200fcc1ec"
      },
      "execution_count": null,
      "outputs": [
        {
          "output_type": "stream",
          "name": "stdout",
          "text": [
            "1234\n",
            "The next number for the number 1234 is 1235.\n",
            "The previous number for the number 1234 is 1233.\n"
          ]
        }
      ]
    },
    {
      "cell_type": "markdown",
      "source": [
        "Задание №3\n"
      ],
      "metadata": {
        "id": "zcEwRJBSap0y"
      }
    },
    {
      "cell_type": "code",
      "source": [
        "number = input(\"Введите четырехзначное число: \")\n",
        "\n",
        "if len(number) != 4:\n",
        "    print(0)  # Не четырехзначное\n",
        "else:\n",
        "    if number[0] == number[3] and number[1] == number[2]:\n",
        "        print(1)  # Симметричное\n",
        "    else:\n",
        "        print(0)  # Не симметричное"
      ],
      "metadata": {
        "colab": {
          "base_uri": "https://localhost:8080/"
        },
        "id": "M8lWSVtSatQg",
        "outputId": "78b10f09-88c1-49db-b8e5-ab0b8fd58591"
      },
      "execution_count": 4,
      "outputs": [
        {
          "output_type": "stream",
          "name": "stdout",
          "text": [
            "Введите четырехзначное число: 123\n",
            "0\n"
          ]
        }
      ]
    },
    {
      "cell_type": "markdown",
      "source": [
        "Задание №4\n"
      ],
      "metadata": {
        "id": "PdfETm5zfIVj"
      }
    },
    {
      "cell_type": "code",
      "source": [
        "h = float(input())\n",
        "a = float(input())\n",
        "b = float(input())\n",
        "print(int(1 + (h - b - 1) / (a - b)))"
      ],
      "metadata": {
        "colab": {
          "base_uri": "https://localhost:8080/"
        },
        "id": "puSJijRRfHx8",
        "outputId": "60e82ffb-100f-4ff2-8b79-efa1c9783407"
      },
      "execution_count": 10,
      "outputs": [
        {
          "output_type": "stream",
          "name": "stdout",
          "text": [
            "10\n",
            "4\n",
            "2\n",
            "4\n"
          ]
        }
      ]
    },
    {
      "cell_type": "markdown",
      "source": [
        "Задание №5"
      ],
      "metadata": {
        "id": "5b_olavahLwz"
      }
    },
    {
      "cell_type": "code",
      "source": [
        "    n = int(input())\n",
        "\n",
        "    h = str(n % 86400 // 3600)\n",
        "\n",
        "    m1 = str(n % 3600 // 60 // 10)\n",
        "\n",
        "    m2 = str(n % 3600 // 60 % 10)\n",
        "\n",
        "    s1 = str(n % 60 // 10)\n",
        "\n",
        "    s2 = str(n % 10)\n",
        "\n",
        "    print(h + ':' + m1 + m2 + ':' + s1 + s2)"
      ],
      "metadata": {
        "colab": {
          "base_uri": "https://localhost:8080/"
        },
        "id": "Hd75r-wEf8o1",
        "outputId": "3f152b7c-5bbd-4c97-ee57-28f0155d2fb0"
      },
      "execution_count": 13,
      "outputs": [
        {
          "output_type": "stream",
          "name": "stdout",
          "text": [
            "5\n",
            "0:00:05\n"
          ]
        }
      ]
    },
    {
      "cell_type": "markdown",
      "source": [
        "Задание №6"
      ],
      "metadata": {
        "id": "wJI6BHmFhaCs"
      }
    },
    {
      "cell_type": "code",
      "source": [
        "a = int(input())\n",
        "b = int(input())\n",
        "c = int(input())\n",
        "x = int(input())\n",
        "y = int(input())\n",
        "z = int(input())\n",
        "print((x-a)*3600 + (y-b)*60 + z - c)"
      ],
      "metadata": {
        "colab": {
          "base_uri": "https://localhost:8080/"
        },
        "id": "P6mVPFFKhYCc",
        "outputId": "0708c3ea-19f0-46b2-ed05-87f24571c6f4"
      },
      "execution_count": 17,
      "outputs": [
        {
          "output_type": "stream",
          "name": "stdout",
          "text": [
            "10\n",
            "10\n",
            "10\n",
            "20\n",
            "20\n",
            "20\n",
            "36610\n"
          ]
        }
      ]
    },
    {
      "cell_type": "markdown",
      "source": [
        "Задание №7"
      ],
      "metadata": {
        "id": "GWBYqOT0jKsr"
      }
    },
    {
      "cell_type": "markdown",
      "source": [],
      "metadata": {
        "id": "g1y2g6SjjKhC"
      }
    },
    {
      "cell_type": "code",
      "source": [
        "a = int(input())\n",
        "b = int(input())\n",
        "a = a + b\n",
        "b = a - b\n",
        "a = a - b\n",
        "print(a)\n",
        "print(b)"
      ],
      "metadata": {
        "colab": {
          "base_uri": "https://localhost:8080/"
        },
        "id": "z0TCl8Eqh1Kg",
        "outputId": "dec4865e-1a8e-4314-8609-cb99393b7ffb"
      },
      "execution_count": 19,
      "outputs": [
        {
          "output_type": "stream",
          "name": "stdout",
          "text": [
            "3\n",
            "1\n",
            "1\n",
            "3\n"
          ]
        }
      ]
    },
    {
      "cell_type": "markdown",
      "source": [
        "Задание №8"
      ],
      "metadata": {
        "id": "INlwX32VjMol"
      }
    },
    {
      "cell_type": "code",
      "source": [
        "n = \"школьники\"\n",
        "k = \"яблоки\"\n",
        "n = int(input())\n",
        "k = int(input())\n",
        "print(-k % n)"
      ],
      "metadata": {
        "colab": {
          "base_uri": "https://localhost:8080/"
        },
        "id": "RzEvvLNUi7E8",
        "outputId": "2caf8e78-4c04-48d4-e411-136221a21ab8"
      },
      "execution_count": 25,
      "outputs": [
        {
          "output_type": "stream",
          "name": "stdout",
          "text": [
            "10\n",
            "4\n",
            "6\n"
          ]
        }
      ]
    },
    {
      "cell_type": "markdown",
      "source": [
        "Задание №9\n"
      ],
      "metadata": {
        "id": "iF1OOQRaj0XC"
      }
    },
    {
      "cell_type": "code",
      "source": [
        "n = int(input())\n",
        "a = n // 100\n",
        "b = n // 10 % 10\n",
        "c = n % 10\n",
        "print(a + b + c)"
      ],
      "metadata": {
        "colab": {
          "base_uri": "https://localhost:8080/"
        },
        "id": "BuhsIsu4j2TW",
        "outputId": "bc1dcdb6-ee8e-499e-cd73-5771c193ed57"
      },
      "execution_count": 26,
      "outputs": [
        {
          "output_type": "stream",
          "name": "stdout",
          "text": [
            "123\n",
            "6\n"
          ]
        }
      ]
    }
  ]
}