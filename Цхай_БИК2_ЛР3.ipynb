{
  "nbformat": 4,
  "nbformat_minor": 0,
  "metadata": {
    "colab": {
      "provenance": [],
      "authorship_tag": "ABX9TyOUfTJmw1m7KwVCPufVs1MC",
      "include_colab_link": true
    },
    "kernelspec": {
      "name": "python3",
      "display_name": "Python 3"
    },
    "language_info": {
      "name": "python"
    }
  },
  "cells": [
    {
      "cell_type": "markdown",
      "metadata": {
        "id": "view-in-github",
        "colab_type": "text"
      },
      "source": [
        "<a href=\"https://colab.research.google.com/github/ntk31/Bananaz/blob/main/%D0%A6%D1%85%D0%B0%D0%B9_%D0%91%D0%98%D0%9A2_%D0%9B%D0%A03.ipynb\" target=\"_parent\"><img src=\"https://colab.research.google.com/assets/colab-badge.svg\" alt=\"Open In Colab\"/></a>"
      ]
    },
    {
      "cell_type": "code",
      "execution_count": 4,
      "metadata": {
        "colab": {
          "base_uri": "https://localhost:8080/"
        },
        "id": "JeF_zAkWEpHp",
        "outputId": "b18091be-579b-4105-a049-c59509bc72b7"
      },
      "outputs": [
        {
          "output_type": "stream",
          "name": "stdout",
          "text": [
            "5, 6, 5, 8\n"
          ]
        }
      ],
      "source": [
        "input_string = \"арбуз, ананас, банан, апельсин\"\n",
        "parts = input_string.split(\", \")\n",
        "lengths = [len(part) for part in parts]\n",
        "print(\", \".join(map(str, lengths)))"
      ]
    },
    {
      "cell_type": "code",
      "source": [
        "stroka = \"Банановая яма, вроде\"\n",
        "n = 3\n",
        "m = 9\n",
        "words = ''.join(char if char.isalnum() or char.isspace()) else ' ' for char in stroka.split()\n",
        "first_part = words[:n].copy()\n",
        "second_part = words[m:]\n",
        "print(first_part, second_part)"
      ],
      "metadata": {
        "colab": {
          "base_uri": "https://localhost:8080/",
          "height": 106
        },
        "id": "nibwBl01Nn-r",
        "outputId": "1a353c63-9f30-42c0-cc16-5730ff189a88"
      },
      "execution_count": 21,
      "outputs": [
        {
          "output_type": "error",
          "ename": "SyntaxError",
          "evalue": "expected 'else' after 'if' expression (<ipython-input-21-0fcca0f16de2>, line 4)",
          "traceback": [
            "\u001b[0;36m  File \u001b[0;32m\"<ipython-input-21-0fcca0f16de2>\"\u001b[0;36m, line \u001b[0;32m4\u001b[0m\n\u001b[0;31m    words = ''.join(char if char.isalnum() else char.isspace()) or ' ' if char in stroka.split()\u001b[0m\n\u001b[0m            ^\u001b[0m\n\u001b[0;31mSyntaxError\u001b[0m\u001b[0;31m:\u001b[0m expected 'else' after 'if' expression\n"
          ]
        }
      ]
    }
  ]
}