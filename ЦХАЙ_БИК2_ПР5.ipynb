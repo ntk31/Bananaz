{
  "nbformat": 4,
  "nbformat_minor": 0,
  "metadata": {
    "colab": {
      "provenance": [],
      "include_colab_link": true
    },
    "kernelspec": {
      "name": "python3",
      "display_name": "Python 3"
    },
    "language_info": {
      "name": "python"
    }
  },
  "cells": [
    {
      "cell_type": "markdown",
      "metadata": {
        "id": "view-in-github",
        "colab_type": "text"
      },
      "source": [
        "<a href=\"https://colab.research.google.com/github/ntk31/Bananaz/blob/main/%D0%A6%D0%A5%D0%90%D0%99_%D0%91%D0%98%D0%9A2_%D0%9F%D0%A05.ipynb\" target=\"_parent\"><img src=\"https://colab.research.google.com/assets/colab-badge.svg\" alt=\"Open In Colab\"/></a>"
      ]
    },
    {
      "cell_type": "markdown",
      "source": [
        "Задача 1"
      ],
      "metadata": {
        "id": "xOTx1YbL2l9g"
      }
    },
    {
      "cell_type": "code",
      "execution_count": 2,
      "metadata": {
        "colab": {
          "base_uri": "https://localhost:8080/"
        },
        "id": "HMOqUwITMXcm",
        "outputId": "f19c50dd-6ba1-4da2-bef6-b1355ecbad4a"
      },
      "outputs": [
        {
          "output_type": "stream",
          "name": "stdout",
          "text": [
            "Введите значение n: 10\n",
            "Введите значение m: 20\n",
            "Сумма чисел от 10 до 20 равна: 165\n"
          ]
        }
      ],
      "source": [
        "n = int(input(\"Введите значение n: \"))\n",
        "m = int(input(\"Введите значение m: \"))\n",
        "\n",
        "if n > m:\n",
        "    print(\"Ошибка: n должно быть меньше или равно m.\")\n",
        "else:\n",
        "    total_sum = sum(range(n, m + 1))\n",
        "\n",
        "    print(f\"Сумма чисел от {n} до {m} равна: {total_sum}\")"
      ]
    }
  ]
}