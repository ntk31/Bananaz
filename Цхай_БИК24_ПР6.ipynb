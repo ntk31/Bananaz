{
  "nbformat": 4,
  "nbformat_minor": 0,
  "metadata": {
    "colab": {
      "provenance": [],
      "include_colab_link": true
    },
    "kernelspec": {
      "name": "python3",
      "display_name": "Python 3"
    },
    "language_info": {
      "name": "python"
    }
  },
  "cells": [
    {
      "cell_type": "markdown",
      "metadata": {
        "id": "view-in-github",
        "colab_type": "text"
      },
      "source": [
        "<a href=\"https://colab.research.google.com/github/ntk31/Bananaz/blob/main/%D0%A6%D1%85%D0%B0%D0%B9_%D0%91%D0%98%D0%9A24_%D0%9F%D0%A06.ipynb\" target=\"_parent\"><img src=\"https://colab.research.google.com/assets/colab-badge.svg\" alt=\"Open In Colab\"/></a>"
      ]
    },
    {
      "cell_type": "markdown",
      "source": [
        "Задание 1"
      ],
      "metadata": {
        "id": "jAQljJxd43fZ"
      }
    },
    {
      "cell_type": "code",
      "execution_count": null,
      "metadata": {
        "colab": {
          "base_uri": "https://localhost:8080/"
        },
        "id": "BttL40uqQE0-",
        "outputId": "6bb6f79a-dba7-43ff-bedd-abad7ec49cdd"
      },
      "outputs": [
        {
          "output_type": "stream",
          "name": "stdout",
          "text": [
            "Введите наименьшее число диапазона\n",
            "1\n",
            "введите наибольшее число диапазона\n",
            "10\n",
            "45\n"
          ]
        }
      ],
      "source": [
        "print(\"Введите наименьшее число диапазона\")\n",
        "a=int(input())\n",
        "print('введите наибольшее число диапазона')\n",
        "b=int(input())\n",
        "sum_ = 0\n",
        "for i in range(a,b):\n",
        "    sum_ += i\n",
        "print(sum_)"
      ]
    },
    {
      "cell_type": "markdown",
      "source": [
        "Задание 2"
      ],
      "metadata": {
        "id": "fhtICzGk44jQ"
      }
    },
    {
      "cell_type": "code",
      "source": [
        "while True:\n",
        "  print(\"Введите первое число\")\n",
        "  a=int(input())\n",
        "  print('введите второе число')\n",
        "  b=int(input())\n",
        "  print(a+b)\n",
        "  if a == b:\n",
        "    break"
      ],
      "metadata": {
        "colab": {
          "base_uri": "https://localhost:8080/"
        },
        "id": "EL3WFeoxSl7j",
        "outputId": "45e015c7-c692-47bb-f87d-071fb0446588"
      },
      "execution_count": null,
      "outputs": [
        {
          "output_type": "stream",
          "name": "stdout",
          "text": [
            "Введите число\n",
            "10\n",
            "введите второе число\n",
            "20\n",
            "30\n",
            "Введите число\n",
            "10\n",
            "введите второе число\n",
            "10\n",
            "20\n"
          ]
        }
      ]
    },
    {
      "cell_type": "markdown",
      "source": [
        "Задание 3"
      ],
      "metadata": {
        "id": "ovGB8ZwF45nc"
      }
    },
    {
      "cell_type": "code",
      "source": [
        "file = \"input.txt\"\n",
        "with open(\"input.txt\", \"r\", encoding=\"utf-8\") as f:\n",
        "  data = f.readlines()\n",
        "  lines = 0\n",
        "words = 0\n",
        "symbols = 0\n",
        "\n",
        "for line in file:\n",
        "    lines += 1\n",
        "    words += len(line.split())\n",
        "    symbols += len(line.replace(' ', ''))\n",
        "\n",
        "print(\"кол-во строк:\", lines)\n",
        "print(\"кол-во слов:\", words)\n",
        "print(\"кол-во букв(без учета пробелов):\", symbols)"
      ],
      "metadata": {
        "colab": {
          "base_uri": "https://localhost:8080/"
        },
        "id": "vJHwNdm1Ygnn",
        "outputId": "d503c2ce-666b-4da9-e183-ea47387691c3"
      },
      "execution_count": null,
      "outputs": [
        {
          "output_type": "stream",
          "name": "stdout",
          "text": [
            "кол-во строк: 9\n",
            "кол-во слов: 9\n",
            "кол-во букв(без учета пробелов): 9\n",
            "кол-во строк: 9\n",
            "кол-во слов: 9\n",
            "кол-во букв(без учета пробелов): 9\n"
          ]
        }
      ]
    }
  ]
}