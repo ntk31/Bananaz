{
  "nbformat": 4,
  "nbformat_minor": 0,
  "metadata": {
    "colab": {
      "provenance": [],
      "authorship_tag": "ABX9TyPGGTJs0/fnuoKy5vkZ+tBL",
      "include_colab_link": true
    },
    "kernelspec": {
      "name": "python3",
      "display_name": "Python 3"
    },
    "language_info": {
      "name": "python"
    }
  },
  "cells": [
    {
      "cell_type": "markdown",
      "metadata": {
        "id": "view-in-github",
        "colab_type": "text"
      },
      "source": [
        "<a href=\"https://colab.research.google.com/github/ntk31/Bananaz/blob/main/%D0%A6%D1%85%D0%B0%D0%B9_%D0%91%D0%98%D0%9A2_%D0%9F%D0%A07.ipynb\" target=\"_parent\"><img src=\"https://colab.research.google.com/assets/colab-badge.svg\" alt=\"Open In Colab\"/></a>"
      ]
    },
    {
      "cell_type": "code",
      "execution_count": 4,
      "metadata": {
        "id": "HdMnewknZjCH"
      },
      "outputs": [],
      "source": [
        "# Напишите программу, которая с помощью цикла создаёт список чисел от 1 до 10, а также список их квадратов и кубов. в Конце необходимо вывести три соответствующих списка.\n",
        "listN1 = []\n",
        "listN2 = []\n",
        "listN3 = []\n",
        "for i in range(11):\n",
        "    listN1.append(i)\n",
        "    listN2.\n",
        "print(ListN1, listN2, listN3)"
      ]
    }
  ]
}