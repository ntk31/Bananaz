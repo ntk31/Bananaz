{
  "nbformat": 4,
  "nbformat_minor": 0,
  "metadata": {
    "colab": {
      "provenance": [],
      "include_colab_link": true
    },
    "kernelspec": {
      "name": "python3",
      "display_name": "Python 3"
    },
    "language_info": {
      "name": "python"
    }
  },
  "cells": [
    {
      "cell_type": "markdown",
      "metadata": {
        "id": "view-in-github",
        "colab_type": "text"
      },
      "source": [
        "<a href=\"https://colab.research.google.com/github/ntk31/Bananaz/blob/main/%D0%A6%D1%85%D0%B0%D0%B9_%D0%91%D0%98%D0%9A2_%D0%9F%D0%A07.ipynb\" target=\"_parent\"><img src=\"https://colab.research.google.com/assets/colab-badge.svg\" alt=\"Open In Colab\"/></a>"
      ]
    },
    {
      "cell_type": "markdown",
      "source": [
        "Задание 1"
      ],
      "metadata": {
        "id": "j5gYr1RJ5AiU"
      }
    },
    {
      "cell_type": "code",
      "execution_count": 2,
      "metadata": {
        "id": "HdMnewknZjCH",
        "outputId": "da0b2f1a-c27e-48a7-ecda-8fcd017db5e5",
        "colab": {
          "base_uri": "https://localhost:8080/"
        }
      },
      "outputs": [
        {
          "output_type": "stream",
          "name": "stdout",
          "text": [
            "Введите размер матрицы n: 2\n",
            "Полученная матрица:\n",
            "[[1 2]\n",
            " [3 4]]\n",
            "Определитель матрицы: -2.0000000000000004\n"
          ]
        }
      ],
      "source": [
        "import numpy as np\n",
        "\n",
        "n = int(input(\"Введите размер матрицы n: \"))\n",
        "\n",
        "matrix = np.array([[i + j * n + 1 for i in range(n)] for j in range(n)])\n",
        "\n",
        "print(\"Полученная матрица:\")\n",
        "print(matrix)\n",
        "\n",
        "determinant = np.linalg.det(matrix)\n",
        "\n",
        "print(f\"Определитель матрицы: {determinant}\")"
      ]
    },
    {
      "cell_type": "markdown",
      "source": [
        "Задание 2"
      ],
      "metadata": {
        "id": "nAkICsnT5alf"
      }
    },
    {
      "cell_type": "code",
      "source": [
        "import numpy as np\n",
        "\n",
        "data = [\n",
        "    ['ФИО', 'Балл по информатике', 'Балл по английскому', 'Балл по алгебре'],\n",
        "    ['Добровольская', '90', '93', '91'],\n",
        "    ['Никлонская', '30', '40', '35'],\n",
        "    ['Никонова', '85', '79', '71']\n",
        "]\n",
        "\n",
        "array_data = np.array(data[1:])\n",
        "scores = array_data[:, 1:].astype(int)\n",
        "\n",
        "average_scores = np.mean(scores, axis=0)\n",
        "highest_subject_index = np.argmax(average_scores)\n",
        "highest_average_score = average_scores[highest_subject_index]\n",
        "highest_subject = data[0][highest_subject_index + 1]\n",
        "\n",
        "print(f\"Самый высокий средний балл по предмету '{highest_subject}': {highest_average_score:.2f}\")\n",
        "\n",
        "total_scores = np.sum(scores, axis=1)\n",
        "highest_student_index = np.argmax(total_scores)\n",
        "highest_student_name = array_data[highest_student_index, 0]\n",
        "highest_student_score = total_scores[highest_student_index]\n",
        "\n",
        "print(f\"Ученик с самым высоким средним баллом: {highest_student_name} с баллом {highest_student_score}\")"
      ],
      "metadata": {
        "id": "uWHV99Me5ba3",
        "outputId": "29ad2615-bb96-4f0a-c96d-ee8772f316c7",
        "colab": {
          "base_uri": "https://localhost:8080/"
        }
      },
      "execution_count": 4,
      "outputs": [
        {
          "output_type": "stream",
          "name": "stdout",
          "text": [
            "Самый высокий средний балл по предмету 'Балл по английскому': 70.67\n",
            "Ученик с самым высоким средним баллом: Добровольская с баллом 274\n"
          ]
        }
      ]
    }
  ]
}