{
  "nbformat": 4,
  "nbformat_minor": 0,
  "metadata": {
    "colab": {
      "provenance": [],
      "include_colab_link": true
    },
    "kernelspec": {
      "name": "python3",
      "display_name": "Python 3"
    },
    "language_info": {
      "name": "python"
    }
  },
  "cells": [
    {
      "cell_type": "markdown",
      "metadata": {
        "id": "view-in-github",
        "colab_type": "text"
      },
      "source": [
        "<a href=\"https://colab.research.google.com/github/ntk31/Bananaz/blob/main/%D0%A6%D1%85%D0%B0%D0%B9_%D0%91%D0%98%D0%9A2_%D0%9F%D0%A010.ipynb\" target=\"_parent\"><img src=\"https://colab.research.google.com/assets/colab-badge.svg\" alt=\"Open In Colab\"/></a>"
      ]
    },
    {
      "cell_type": "markdown",
      "source": [
        "Задание 1"
      ],
      "metadata": {
        "id": "DaLXyNj19cE1"
      }
    },
    {
      "cell_type": "code",
      "execution_count": 1,
      "metadata": {
        "id": "e3N7tPXmwj1I",
        "outputId": "22745374-8add-4d87-f99d-252b79a8f3b3",
        "colab": {
          "base_uri": "https://localhost:8080/"
        }
      },
      "outputs": [
        {
          "output_type": "stream",
          "name": "stdout",
          "text": [
            "Введите число (0 для завершения): 10\n",
            "Введите число (0 для завершения): 20\n",
            "Введите число (0 для завершения): 10\n",
            "Введите число (0 для завершения): 20\n",
            "Введите число (0 для завершения): 0\n",
            "Сумма всех введенных чисел: 60\n"
          ]
        }
      ],
      "source": [
        "def sum_numbers():\n",
        "    total_sum = 0\n",
        "\n",
        "    while True:\n",
        "        number = int(input(\"Введите число (0 для завершения): \"))\n",
        "\n",
        "        if number == 0:\n",
        "            break\n",
        "\n",
        "        total_sum += number\n",
        "\n",
        "    return total_sum\n",
        "\n",
        "result = sum_numbers()\n",
        "print(f\"Сумма всех введенных чисел: {result}\")"
      ]
    },
    {
      "cell_type": "markdown",
      "source": [
        "Задание 2\n"
      ],
      "metadata": {
        "id": "M-ERhZQA9d22"
      }
    },
    {
      "cell_type": "code",
      "source": [
        "def collect_contacts():\n",
        "    contacts = []\n",
        "\n",
        "    while True:\n",
        "        entry = input(\"Введите имя и номер телефона (или '0-0' для завершения): \").strip()\n",
        "        if entry == \"0-0\":\n",
        "            break\n",
        "        name, phone_number = entry.split()\n",
        "        contacts.append((name, phone_number))\n",
        "\n",
        "    return contacts\n",
        "\n",
        "def sort_phone_numbers(contacts):\n",
        "    sorted_contacts = sorted(contacts, key=lambda x: x[1])\n",
        "    return [phone for name, phone in sorted_contacts]\n",
        "\n",
        "def sort_names(contacts):\n",
        "    sorted_contacts = sorted(contacts, key=lambda x: x[0])\n",
        "    return [name for name, phone in sorted_contacts]\n",
        "\n",
        "contacts = collect_contacts()\n",
        "print(\"Номера телефонов в порядке возрастания:\", sort_phone_numbers(contacts))\n",
        "print(\"Имена в порядке возрастания:\", sort_names(contacts))"
      ],
      "metadata": {
        "id": "C92MAuLy9fbi",
        "outputId": "3868b3a5-2113-4a10-bd12-26af226518e6",
        "colab": {
          "base_uri": "https://localhost:8080/"
        }
      },
      "execution_count": 3,
      "outputs": [
        {
          "output_type": "stream",
          "name": "stdout",
          "text": [
            "Введите имя и номер телефона (или '0-0' для завершения): Дмитрий +79081713124\n",
            "Введите имя и номер телефона (или '0-0' для завершения): 0-0\n",
            "Номера телефонов в порядке возрастания: ['+79081713124']\n",
            "Имена в порядке возрастания: ['Дмитрий']\n"
          ]
        }
      ]
    }
  ]
}