{
  "nbformat": 4,
  "nbformat_minor": 0,
  "metadata": {
    "colab": {
      "provenance": [],
      "authorship_tag": "ABX9TyPWxFNRisBNdAUzM65vQAyB",
      "include_colab_link": true
    },
    "kernelspec": {
      "name": "python3",
      "display_name": "Python 3"
    },
    "language_info": {
      "name": "python"
    }
  },
  "cells": [
    {
      "cell_type": "markdown",
      "metadata": {
        "id": "view-in-github",
        "colab_type": "text"
      },
      "source": [
        "<a href=\"https://colab.research.google.com/github/ntk31/Bananaz/blob/main/%D0%A6%D1%85%D0%B0%D0%B9_%D0%91%D0%98%D0%9A2_%D0%9F%D0%A010.ipynb\" target=\"_parent\"><img src=\"https://colab.research.google.com/assets/colab-badge.svg\" alt=\"Open In Colab\"/></a>"
      ]
    },
    {
      "cell_type": "code",
      "execution_count": null,
      "metadata": {
        "id": "e3N7tPXmwj1I"
      },
      "outputs": [],
      "source": [
        "filer = open(\"input.txt\", \"r\", encoding='utf-8')\n",
        "filer.write()"
      ]
    }
  ]
}