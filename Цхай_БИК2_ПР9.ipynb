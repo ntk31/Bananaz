{
  "nbformat": 4,
  "nbformat_minor": 0,
  "metadata": {
    "colab": {
      "provenance": [],
      "authorship_tag": "ABX9TyMfjNf16SqMZAf3LHNSLESY",
      "include_colab_link": true
    },
    "kernelspec": {
      "name": "python3",
      "display_name": "Python 3"
    },
    "language_info": {
      "name": "python"
    }
  },
  "cells": [
    {
      "cell_type": "markdown",
      "metadata": {
        "id": "view-in-github",
        "colab_type": "text"
      },
      "source": [
        "<a href=\"https://colab.research.google.com/github/ntk31/Bananaz/blob/main/%D0%A6%D1%85%D0%B0%D0%B9_%D0%91%D0%98%D0%9A2_%D0%9F%D0%A09.ipynb\" target=\"_parent\"><img src=\"https://colab.research.google.com/assets/colab-badge.svg\" alt=\"Open In Colab\"/></a>"
      ]
    },
    {
      "cell_type": "code",
      "execution_count": 16,
      "metadata": {
        "id": "RgaT-LC5gCWy",
        "colab": {
          "base_uri": "https://localhost:8080/"
        },
        "outputId": "cfc5cbc9-0e18-4eae-a02f-b7d0ff95649f"
      },
      "outputs": [
        {
          "output_type": "stream",
          "name": "stdout",
          "text": [
            "1222333\n",
            "123\n",
            "['1222333']\n",
            "{'123'}\n",
            "{'1222333'}\n"
          ]
        }
      ],
      "source": [
        "# С клавиатуоры вводятся числа. Ввод считывается до тех пор, пока не введён 0. Неободимо вернуть:\n",
        "# 1. Словарь, в котором ключами являются введённые значения, а значениям - сколько раз такое значение встретилось в последовательности.\n",
        "# 2. Список уникальных введённых значений.\n",
        "\n",
        "list_nums = [input()]\n",
        "set_nums = {input()}\n",
        "set_nums_from_list = set(list_nums)\n",
        "\n",
        "print(list_nums, set_nums, set_nums_from_list, sep=\"\\n\")"
      ]
    },
    {
      "cell_type": "code",
      "source": [],
      "metadata": {
        "id": "U-pzOQQ8wNxP"
      },
      "execution_count": null,
      "outputs": []
    }
  ]
}