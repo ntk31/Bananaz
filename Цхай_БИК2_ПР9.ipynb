{
  "nbformat": 4,
  "nbformat_minor": 0,
  "metadata": {
    "colab": {
      "provenance": [],
      "include_colab_link": true
    },
    "kernelspec": {
      "name": "python3",
      "display_name": "Python 3"
    },
    "language_info": {
      "name": "python"
    }
  },
  "cells": [
    {
      "cell_type": "markdown",
      "metadata": {
        "id": "view-in-github",
        "colab_type": "text"
      },
      "source": [
        "<a href=\"https://colab.research.google.com/github/ntk31/Bananaz/blob/main/%D0%A6%D1%85%D0%B0%D0%B9_%D0%91%D0%98%D0%9A2_%D0%9F%D0%A09.ipynb\" target=\"_parent\"><img src=\"https://colab.research.google.com/assets/colab-badge.svg\" alt=\"Open In Colab\"/></a>"
      ]
    },
    {
      "cell_type": "markdown",
      "source": [
        "Задание 1"
      ],
      "metadata": {
        "id": "9k5ySPfM7nS7"
      }
    },
    {
      "cell_type": "code",
      "execution_count": 1,
      "metadata": {
        "id": "RgaT-LC5gCWy",
        "colab": {
          "base_uri": "https://localhost:8080/"
        },
        "outputId": "8189af63-1f04-45fb-ae9a-14d2e1b282f3"
      },
      "outputs": [
        {
          "output_type": "stream",
          "name": "stdout",
          "text": [
            "Введите число (0 для завершения): 20\n",
            "Введите число (0 для завершения): 10\n",
            "Введите число (0 для завершения): 20\n",
            "Введите число (0 для завершения): 10\n",
            "Введите число (0 для завершения): 0\n",
            "Словарь с количеством вхождений:\n",
            "{20: 2, 10: 2}\n",
            "Список уникальных введенных значений:\n",
            "[20, 10]\n"
          ]
        }
      ],
      "source": [
        "count_dict = {}\n",
        "unique_values = []\n",
        "\n",
        "while True:\n",
        "    number = int(input(\"Введите число (0 для завершения): \"))\n",
        "\n",
        "    if number == 0:\n",
        "        break\n",
        "\n",
        "    if number in count_dict:\n",
        "        count_dict[number] += 1\n",
        "    else:\n",
        "        count_dict[number] = 1\n",
        "        unique_values.append(number)\n",
        "\n",
        "print(\"Словарь с количеством вхождений:\")\n",
        "print(count_dict)\n",
        "print(\"Список уникальных введенных значений:\")\n",
        "print(unique_values)"
      ]
    },
    {
      "cell_type": "markdown",
      "source": [
        "Задание 2"
      ],
      "metadata": {
        "id": "cuYq8BRW7rUQ"
      }
    },
    {
      "cell_type": "code",
      "source": [
        "phone_book = {}\n",
        "\n",
        "while True:\n",
        "    action = input(\"Введите 'add' чтобы добавить или 'who' чтобы узнать: \").strip().lower()\n",
        "\n",
        "    if action == 'add':\n",
        "        name = input(\"Введите имя: \").strip()\n",
        "        phone_number = input(\"Введите номер: \").strip()\n",
        "\n",
        "        phone_book[name] = phone_number\n",
        "        print(f'Добавлена запись \"{name}\": \"{phone_number}\"')\n",
        "\n",
        "    elif action == 'who':\n",
        "        name = input(\"Введите имя: \").strip()\n",
        "\n",
        "        if name in phone_book:\n",
        "            print(f'Номер телефона для {name}: {phone_book[name]}')\n",
        "        else:\n",
        "            print(f'Запись с именем \"{name}\" не найдена.')\n",
        "\n",
        "    else:\n",
        "        print(\"Неверная команда. Пожалуйста, введите 'add' или 'who'.\")"
      ],
      "metadata": {
        "id": "U-pzOQQ8wNxP",
        "outputId": "6c67dd1e-9cb6-4e69-9278-a35f032b6907",
        "colab": {
          "base_uri": "https://localhost:8080/",
          "height": 599
        }
      },
      "execution_count": 2,
      "outputs": [
        {
          "output_type": "stream",
          "name": "stdout",
          "text": [
            "Введите 'add' чтобы добавить или 'who' чтобы узнать: add\n",
            "Введите имя: add\n",
            "Введите номер: ntk\n",
            "Добавлена запись \"add\": \"ntk\"\n",
            "Введите 'add' чтобы добавить или 'who' чтобы узнать: who\n",
            "Введите имя: ntk\n",
            "Запись с именем \"ntk\" не найдена.\n",
            "Введите 'add' чтобы добавить или 'who' чтобы узнать: add\n",
            "Введите имя: ntk\n",
            "Введите номер: +79623365445\n",
            "Добавлена запись \"ntk\": \"+79623365445\"\n",
            "Введите 'add' чтобы добавить или 'who' чтобы узнать: who\n",
            "Введите имя: ntk\n",
            "Номер телефона для ntk: +79623365445\n"
          ]
        },
        {
          "output_type": "error",
          "ename": "KeyboardInterrupt",
          "evalue": "Interrupted by user",
          "traceback": [
            "\u001b[0;31m---------------------------------------------------------------------------\u001b[0m",
            "\u001b[0;31mKeyboardInterrupt\u001b[0m                         Traceback (most recent call last)",
            "\u001b[0;32m<ipython-input-2-80ff249f5030>\u001b[0m in \u001b[0;36m<cell line: 0>\u001b[0;34m()\u001b[0m\n\u001b[1;32m      2\u001b[0m \u001b[0;34m\u001b[0m\u001b[0m\n\u001b[1;32m      3\u001b[0m \u001b[0;32mwhile\u001b[0m \u001b[0;32mTrue\u001b[0m\u001b[0;34m:\u001b[0m\u001b[0;34m\u001b[0m\u001b[0;34m\u001b[0m\u001b[0m\n\u001b[0;32m----> 4\u001b[0;31m     \u001b[0maction\u001b[0m \u001b[0;34m=\u001b[0m \u001b[0minput\u001b[0m\u001b[0;34m(\u001b[0m\u001b[0;34m\"Введите 'add' чтобы добавить или 'who' чтобы узнать: \"\u001b[0m\u001b[0;34m)\u001b[0m\u001b[0;34m.\u001b[0m\u001b[0mstrip\u001b[0m\u001b[0;34m(\u001b[0m\u001b[0;34m)\u001b[0m\u001b[0;34m.\u001b[0m\u001b[0mlower\u001b[0m\u001b[0;34m(\u001b[0m\u001b[0;34m)\u001b[0m\u001b[0;34m\u001b[0m\u001b[0;34m\u001b[0m\u001b[0m\n\u001b[0m\u001b[1;32m      5\u001b[0m \u001b[0;34m\u001b[0m\u001b[0m\n\u001b[1;32m      6\u001b[0m     \u001b[0;32mif\u001b[0m \u001b[0maction\u001b[0m \u001b[0;34m==\u001b[0m \u001b[0;34m'add'\u001b[0m\u001b[0;34m:\u001b[0m\u001b[0;34m\u001b[0m\u001b[0;34m\u001b[0m\u001b[0m\n",
            "\u001b[0;32m/usr/local/lib/python3.11/dist-packages/ipykernel/kernelbase.py\u001b[0m in \u001b[0;36mraw_input\u001b[0;34m(self, prompt)\u001b[0m\n\u001b[1;32m    849\u001b[0m                 \u001b[0;34m\"raw_input was called, but this frontend does not support input requests.\"\u001b[0m\u001b[0;34m\u001b[0m\u001b[0;34m\u001b[0m\u001b[0m\n\u001b[1;32m    850\u001b[0m             )\n\u001b[0;32m--> 851\u001b[0;31m         return self._input_request(str(prompt),\n\u001b[0m\u001b[1;32m    852\u001b[0m             \u001b[0mself\u001b[0m\u001b[0;34m.\u001b[0m\u001b[0m_parent_ident\u001b[0m\u001b[0;34m,\u001b[0m\u001b[0;34m\u001b[0m\u001b[0;34m\u001b[0m\u001b[0m\n\u001b[1;32m    853\u001b[0m             \u001b[0mself\u001b[0m\u001b[0;34m.\u001b[0m\u001b[0m_parent_header\u001b[0m\u001b[0;34m,\u001b[0m\u001b[0;34m\u001b[0m\u001b[0;34m\u001b[0m\u001b[0m\n",
            "\u001b[0;32m/usr/local/lib/python3.11/dist-packages/ipykernel/kernelbase.py\u001b[0m in \u001b[0;36m_input_request\u001b[0;34m(self, prompt, ident, parent, password)\u001b[0m\n\u001b[1;32m    893\u001b[0m             \u001b[0;32mexcept\u001b[0m \u001b[0mKeyboardInterrupt\u001b[0m\u001b[0;34m:\u001b[0m\u001b[0;34m\u001b[0m\u001b[0;34m\u001b[0m\u001b[0m\n\u001b[1;32m    894\u001b[0m                 \u001b[0;31m# re-raise KeyboardInterrupt, to truncate traceback\u001b[0m\u001b[0;34m\u001b[0m\u001b[0;34m\u001b[0m\u001b[0m\n\u001b[0;32m--> 895\u001b[0;31m                 \u001b[0;32mraise\u001b[0m \u001b[0mKeyboardInterrupt\u001b[0m\u001b[0;34m(\u001b[0m\u001b[0;34m\"Interrupted by user\"\u001b[0m\u001b[0;34m)\u001b[0m \u001b[0;32mfrom\u001b[0m \u001b[0;32mNone\u001b[0m\u001b[0;34m\u001b[0m\u001b[0;34m\u001b[0m\u001b[0m\n\u001b[0m\u001b[1;32m    896\u001b[0m             \u001b[0;32mexcept\u001b[0m \u001b[0mException\u001b[0m \u001b[0;32mas\u001b[0m \u001b[0me\u001b[0m\u001b[0;34m:\u001b[0m\u001b[0;34m\u001b[0m\u001b[0;34m\u001b[0m\u001b[0m\n\u001b[1;32m    897\u001b[0m                 \u001b[0mself\u001b[0m\u001b[0;34m.\u001b[0m\u001b[0mlog\u001b[0m\u001b[0;34m.\u001b[0m\u001b[0mwarning\u001b[0m\u001b[0;34m(\u001b[0m\u001b[0;34m\"Invalid Message:\"\u001b[0m\u001b[0;34m,\u001b[0m \u001b[0mexc_info\u001b[0m\u001b[0;34m=\u001b[0m\u001b[0;32mTrue\u001b[0m\u001b[0;34m)\u001b[0m\u001b[0;34m\u001b[0m\u001b[0;34m\u001b[0m\u001b[0m\n",
            "\u001b[0;31mKeyboardInterrupt\u001b[0m: Interrupted by user"
          ]
        }
      ]
    }
  ]
}